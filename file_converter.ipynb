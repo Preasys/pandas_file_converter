{
 "cells": [
  {
   "cell_type": "code",
   "execution_count": 138,
   "id": "876adb29",
   "metadata": {},
   "outputs": [],
   "source": [
    "import pandas as pd\n",
    "import json\n",
    "import os\n",
    "import glob\n",
    "import re"
   ]
  },
  {
   "cell_type": "code",
   "execution_count": 139,
   "id": "8c8a189a",
   "metadata": {},
   "outputs": [],
   "source": [
    "def get_column_names(schema,data_set):\n",
    "    col_details = sorted(schema[data_set],key= lambda i : i['column_position'])\n",
    "    return [i['column_name'] for i in col_details]"
   ]
  },
  {
   "cell_type": "code",
   "execution_count": 140,
   "id": "0ba6e099",
   "metadata": {},
   "outputs": [],
   "source": [
    "def get_file_names(params):\n",
    "    source_path_regex = ''\n",
    "\n",
    "    if params['source_entity']=='all':\n",
    "        source_path_regex= params['source_file_path']+'\\\\*\\\\part-*'\n",
    "    else:\n",
    "        source_path_regex= params['source_file_path'] + '\\\\' + params['source_entity'] + '\\\\part-*'\n",
    "\n",
    "    return glob.glob(source_path_regex,recursive=True)"
   ]
  },
  {
   "cell_type": "code",
   "execution_count": 141,
   "id": "bcb37481",
   "metadata": {},
   "outputs": [],
   "source": [
    "def get_ds_names(file_names):\n",
    "    ds_name = set()\n",
    "    for file in file_names:\n",
    "        ds_name.add(file.split('\\\\')[2])\n",
    "    return ds_name"
   ]
  },
  {
   "cell_type": "code",
   "execution_count": 142,
   "id": "a5f7e1fc",
   "metadata": {},
   "outputs": [
    {
     "name": "stdout",
     "output_type": "stream",
     "text": [
      "['data\\\\retail_db\\\\orders\\\\part-00000']\n"
     ]
    }
   ],
   "source": [
    "#variables\n",
    "param_path='params.json'\n",
    "\n",
    "params = json.load(open(param_path))\n",
    "schema = json.load(open(params['schema_details']))\n",
    "\n",
    "file_names = get_file_names(params)\n",
    "\n",
    "print(file_names)"
   ]
  },
  {
   "cell_type": "code",
   "execution_count": 143,
   "id": "94b7883d",
   "metadata": {},
   "outputs": [],
   "source": [
    "col_names = get_column_names(schema,'orders')"
   ]
  },
  {
   "cell_type": "code",
   "execution_count": 144,
   "id": "cf7b33a9",
   "metadata": {},
   "outputs": [
    {
     "name": "stdout",
     "output_type": "stream",
     "text": [
      "shape of data\\retail_db\\orders\\part-00000 is (68883, 4)\n"
     ]
    }
   ],
   "source": [
    "for file in file_names:\n",
    "    df = pd.read_csv(file,names=col_names)\n",
    "    print(f'shape of {file} is {df.shape}')"
   ]
  },
  {
   "cell_type": "code",
   "execution_count": 145,
   "id": "6569d8d2",
   "metadata": {},
   "outputs": [
    {
     "name": "stdout",
     "output_type": "stream",
     "text": [
      "['orders']\n"
     ]
    }
   ],
   "source": [
    "ds_names = list(get_ds_names(file_names))\n",
    "print(ds_names)"
   ]
  },
  {
   "cell_type": "code",
   "execution_count": 149,
   "id": "e0087e32",
   "metadata": {},
   "outputs": [
    {
     "name": "stdout",
     "output_type": "stream",
     "text": [
      "Processing file data\\retail_db\\orders\\part-00000\n",
      "Shape of data\\retail_db\\orders\\part-00000 is (68883, 4)\n",
      "converted file's relative path will be converted_files\\retail_db\\orders\\part-00000.json\n",
      "Creating path converted_files\\retail_db\\orders if it doesn't exist\n",
      "Created path converted_files\\retail_db\\orders if it doesn't exist\n",
      "Copying from data\\retail_db\\orders\\part-00000 into converted_files\\retail_db\\orders\\part-00000.json\n",
      "Copied from data\\retail_db\\orders\\part-00000 into converted_files\\retail_db\\orders\\part-00000.json\n",
      "data\\retail_db\\orders\\part-00000 is processed and it's json converted file is saved as converted_files\\retail_db\\orders\\part-00000.json\n"
     ]
    }
   ],
   "source": [
    "for file in file_names:\n",
    "    print(f'Processing file {file}')\n",
    "    ds = file.split('\\\\')[2]\n",
    "    file_nm = file.split('\\\\')[-1]\n",
    "    col_names = get_column_names(schema,ds)\n",
    "    df = pd.read_csv(file,names=col_names)\n",
    "    print(f'Shape of {file} is {df.shape}')\n",
    "\n",
    "    #Setting target file path\n",
    "    target_file_path = params['target_file_path'] + '\\\\' + ds + '\\\\'+ file_nm + '.' + params['target_format']\n",
    "    print(f'converted file\\'s relative path will be {target_file_path}')\n",
    "\n",
    "    print(f'Creating path {params['target_file_path']+'\\\\'+ds} if it doesn\\'t exist')\n",
    "    os.makedirs(params['target_file_path'] + '\\\\' + ds, exist_ok=True)\n",
    "    print(f'Created path {params['target_file_path']+'\\\\'+ds} if it doesn\\'t exist')\n",
    "\n",
    "    #Writing into desired target file\n",
    "    if params['target_format']=='json':\n",
    "        print(f'Copying from {file} into {target_file_path}')\n",
    "        df.to_json(target_file_path)\n",
    "        print(f'Copied from {file} into {target_file_path}')\n",
    "    elif params['target_format']=='csv':\n",
    "        print(f'Copying from {file} into {target_file_path}')\n",
    "        df.to_csv(target_file_path)\n",
    "        print(f'Copied from {file} into {target_file_path}')\n",
    "    else:\n",
    "        print(f'Invalid target_format {params['target_format']} is provided in params.json')\n",
    "    \n",
    "    print(f'{file} is processed and it\\'s {params['target_format']} converted file is saved as {target_file_path}')\n"
   ]
  },
  {
   "cell_type": "code",
   "execution_count": null,
   "id": "aed17425",
   "metadata": {},
   "outputs": [],
   "source": []
  }
 ],
 "metadata": {
  "kernelspec": {
   "display_name": "dev",
   "language": "python",
   "name": "python3"
  },
  "language_info": {
   "codemirror_mode": {
    "name": "ipython",
    "version": 3
   },
   "file_extension": ".py",
   "mimetype": "text/x-python",
   "name": "python",
   "nbconvert_exporter": "python",
   "pygments_lexer": "ipython3",
   "version": "3.12.7"
  }
 },
 "nbformat": 4,
 "nbformat_minor": 5
}
